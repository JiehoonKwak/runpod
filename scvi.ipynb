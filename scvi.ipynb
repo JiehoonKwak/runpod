{
 "cells": [
  {
   "cell_type": "code",
   "execution_count": null,
   "metadata": {},
   "outputs": [],
   "source": [
    "!python --version"
   ]
  },
  {
   "cell_type": "code",
   "execution_count": null,
   "metadata": {},
   "outputs": [],
   "source": [
    "!pwd"
   ]
  },
  {
   "cell_type": "code",
   "execution_count": null,
   "metadata": {},
   "outputs": [],
   "source": [
    "!cd /workspace"
   ]
  },
  {
   "cell_type": "code",
   "execution_count": 8,
   "metadata": {},
   "outputs": [],
   "source": [
    "!pip install scanpy scikit-misc scvi-tools mplscience  "
   ]
  },
  {
   "cell_type": "code",
   "execution_count": 9,
   "metadata": {},
   "outputs": [],
   "source": [
    "import os\n",
    "import gc\n",
    "import warnings\n",
    "warnings.filterwarnings(\"ignore\")\n",
    "\n",
    "# single cell pipelines\n",
    "import scanpy as sc\n",
    "import numpy as np\n",
    "import pandas as pd\n",
    "\n",
    "import seaborn as sns\n",
    "import matplotlib.pyplot as plt\n",
    "import mplscience\n",
    "\n",
    "# scvi-tools\n",
    "import scvi\n",
    "import torch\n",
    "\n",
    "print(scvi.__version__)\n",
    "sc.logging.print_header()\n",
    "\n",
    "np.random.seed(777)\n",
    "torch.manual_seed(777)\n",
    "scvi.settings.seed = 777"
   ]
  },
  {
   "cell_type": "code",
   "execution_count": null,
   "metadata": {},
   "outputs": [],
   "source": [
    "batch_key = 'sample_id'"
   ]
  },
  {
   "cell_type": "markdown",
   "metadata": {},
   "source": [
    "# 1. autotune"
   ]
  },
  {
   "cell_type": "code",
   "execution_count": null,
   "metadata": {},
   "outputs": [],
   "source": [
    "# !pip install scanpy scvi-tools scikit-misc ray[tune] hyperopt celltypist mplscience  "
   ]
  },
  {
   "cell_type": "code",
   "execution_count": null,
   "metadata": {},
   "outputs": [],
   "source": [
    "from scvi import autotune\n",
    "from ray import tune\n",
    "import ray"
   ]
  },
  {
   "cell_type": "code",
   "execution_count": null,
   "metadata": {},
   "outputs": [],
   "source": [
    "adata = sc.read_h5ad('')"
   ]
  },
  {
   "cell_type": "code",
   "execution_count": null,
   "metadata": {},
   "outputs": [],
   "source": [
    "sc.pp.highly_variable_genes(adata, n_top_genes = 3000, subset = True, layer = 'counts', flavor = 'seurat_v3', batch_key = batch_key) "
   ]
  },
  {
   "cell_type": "code",
   "execution_count": null,
   "metadata": {},
   "outputs": [],
   "source": [
    "model_cls = scvi.model.SCVI\n",
    "model_cls.setup_anndata(adata, layer = 'counts', batch_key = batch_key, continuous_covariate_keys=['pct_counts_mt', 'pct_counts_ribo'])\n",
    "gc.collect()"
   ]
  },
  {
   "cell_type": "code",
   "execution_count": null,
   "metadata": {},
   "outputs": [],
   "source": [
    "search_space = {\n",
    "    \"model_params\": {\n",
    "        \"n_hidden\" : tune.choice([92, 128, 192, 256]),\n",
    "        \"n_latent\" : tune.choice([10, 20, 30, 40, 50, 60]),\n",
    "        \"n_layers\" : tune.choice([1,2,3]),\n",
    "        \"gene_likelihood\" : tune.choice([\"nb\", \"zinb\"])\n",
    "    },\n",
    "    \"train_params\" : {\n",
    "        \"max_epochs\" : 100, \n",
    "        \"plan_kwargs\": {\n",
    "            \"lr\": tune.loguniform(1e-4, 1e-2)\n",
    "        },\n",
    "        \"datasplitter_kwargs\": {\n",
    "            \"drop_last\": True,\n",
    "        }\n",
    "    }\n",
    "}"
   ]
  },
  {
   "cell_type": "code",
   "execution_count": null,
   "metadata": {},
   "outputs": [],
   "source": [
    "ray.init(log_to_driver=False)"
   ]
  },
  {
   "cell_type": "code",
   "execution_count": null,
   "metadata": {},
   "outputs": [],
   "source": [
    "results = autotune.run_autotune(model_cls, data = adata, mode = \"min\",  metrics = \"validation_loss\", search_space = search_space, num_samples = 100)"
   ]
  },
  {
   "cell_type": "code",
   "execution_count": null,
   "metadata": {},
   "outputs": [],
   "source": [
    "best_vl, best_i = 10000, 0\n",
    "for i, res in enumerate(results.result_grid):\n",
    "    vl = res.metrics['validation_loss']\n",
    "    if vl < best_vl:\n",
    "        best_vl = vl\n",
    "        best_i = i\n",
    "# get hyperparameter        \n",
    "results.result_grid[best_i]"
   ]
  },
  {
   "cell_type": "markdown",
   "metadata": {},
   "source": [
    "# 2. scVI\n",
    "- change params"
   ]
  },
  {
   "cell_type": "code",
   "execution_count": null,
   "metadata": {},
   "outputs": [],
   "source": [
    "scvi.model.SCVI.setup_anndata(adata, layer = 'counts', batch_key='sample_id', continuous_covariate_keys=['pct_counts_mt', 'pct_counts_ribo'])\n",
    "scvi_model = scvi.model.SCVI(adata, gene_likelihood='zinb', n_hidden=192, n_latent=30, n_layers=2, dropout_rate=0.5)  \n",
    "\n",
    "# scvi_model = scvi.model.SCVI(adata, n_latent=30, n_layers=2)  \n",
    "gc.collect()"
   ]
  },
  {
   "cell_type": "code",
   "execution_count": null,
   "metadata": {},
   "outputs": [],
   "source": [
    "scvi_model.train(early_stopping=True, datasplitter_kwargs={\"drop_last\": True}, plan_kwargs={\"lr\": 0.0027},)"
   ]
  },
  {
   "cell_type": "code",
   "execution_count": null,
   "metadata": {},
   "outputs": [],
   "source": [
    "with mplscience.style_context():\n",
    "    y = scvi_model.history['reconstruction_loss_validation']['reconstruction_loss_validation'].min()\n",
    "    plt.plot(scvi_model.history['reconstruction_loss_validation']['reconstruction_loss_validation'], label = 'validation')\n",
    "    plt.plot(scvi_model.history['reconstruction_loss_train']['reconstruction_loss_train'], label = 'train')\n",
    "\n",
    "    plt.axhline(y, c = 'k')\n",
    "    plt.legend()\n",
    "    plt.show()"
   ]
  },
  {
   "cell_type": "code",
   "execution_count": null,
   "metadata": {},
   "outputs": [],
   "source": [
    "# read again\n",
    "adata = sc.read_h5ad('')\n",
    "adata.obsm['X_scVI'] = scvi_model.get_latent_representation()\n",
    "adata.raw = adata"
   ]
  },
  {
   "cell_type": "code",
   "execution_count": null,
   "metadata": {},
   "outputs": [],
   "source": [
    "gc.collect()\n",
    "sc.pp.neighbors(adata, use_rep=\"X_scVI\")\n",
    "sc.tl.leiden(adata)\n",
    "sc.tl.umap(adata)"
   ]
  },
  {
   "cell_type": "code",
   "execution_count": null,
   "metadata": {},
   "outputs": [],
   "source": [
    "adata.write('')\n",
    "scvi_model.save('model_scvi')"
   ]
  },
  {
   "cell_type": "markdown",
   "metadata": {},
   "source": [
    "# 3. scANVI"
   ]
  },
  {
   "cell_type": "code",
   "execution_count": null,
   "metadata": {},
   "outputs": [],
   "source": [
    "# scvi_model = scvi.model.SCVI.load('model_path', adata)"
   ]
  },
  {
   "cell_type": "code",
   "execution_count": null,
   "metadata": {},
   "outputs": [],
   "source": [
    "scanvi_model = scvi.model.SCANVI.from_scvi_model(scvi_model= scvi_model, adata = adata, labels_key = 'cell_type', unlabeled_category='unlabelled')"
   ]
  },
  {
   "cell_type": "code",
   "execution_count": null,
   "metadata": {},
   "outputs": [],
   "source": [
    "scanvi_model.train(max_epochs = 30, early_stopping = True)\n",
    "\n",
    "# scanvi_model.train(\n",
    "#     max_epochs=30,\n",
    "#     early_stopping=True,\n",
    "#     early_stopping_monitor=\"validation_loss\",\n",
    "#     early_stopping_patience=10,\n",
    "#     plan_kwargs={\n",
    "#         \"lr\": 1e-3,           \n",
    "#         \"weight_decay\": 1e-4, \n",
    "#         \"n_epochs_kl_warmup\": 5  \n",
    "#     }\n",
    "# )"
   ]
  },
  {
   "cell_type": "code",
   "execution_count": null,
   "metadata": {},
   "outputs": [],
   "source": [
    "# read again\n",
    "adata = sc.read_h5ad('')\n",
    "adata.obsm[\"X_scANVI\"] = scanvi_model.get_latent_representation()"
   ]
  },
  {
   "cell_type": "code",
   "execution_count": null,
   "metadata": {},
   "outputs": [],
   "source": [
    "scanvi_model.save('model_scanvi')"
   ]
  }
 ],
 "metadata": {
  "kernelspec": {
   "display_name": "Python 3 (ipykernel)",
   "language": "python",
   "name": "python3"
  }
 },
 "nbformat": 4,
 "nbformat_minor": 2
}
